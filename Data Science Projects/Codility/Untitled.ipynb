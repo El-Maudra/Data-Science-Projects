{
 "cells": [
  {
   "cell_type": "code",
   "execution_count": 1,
   "id": "8879d64b",
   "metadata": {},
   "outputs": [],
   "source": [
    "from sklearn.cluster import KMeans\n",
    "from sklearn.decomposition import PCA\n",
    "import sklearn.metrics.cluster as metrics\n",
    "import pickle"
   ]
  },
  {
   "cell_type": "code",
   "execution_count": 33,
   "id": "c0ffaa67",
   "metadata": {},
   "outputs": [],
   "source": [
    "data = pickle.load(open(\"documents.p\", \"rb\"))"
   ]
  },
  {
   "cell_type": "code",
   "execution_count": 34,
   "id": "de6cc59e",
   "metadata": {},
   "outputs": [
    {
     "data": {
      "text/plain": [
       "array([0, 3, 3, ..., 3, 1, 0])"
      ]
     },
     "execution_count": 34,
     "metadata": {},
     "output_type": "execute_result"
    }
   ],
   "source": [
    "kmeans = KMeans(\n",
    "        n_clusters=10, \n",
    "        random_state = 2, \n",
    "        tol=0.05, \n",
    "        max_iter=50\n",
    "    )\n",
    "\n",
    "kmeans.fit_predict(data['vectors'])"
   ]
  },
  {
   "cell_type": "code",
   "execution_count": 35,
   "id": "05a52316",
   "metadata": {},
   "outputs": [],
   "source": [
    "pca = PCA(n_components = 10, random_state = 2)\n",
    "data['vectors'] = pca.fit_transform(data['vectors'])"
   ]
  },
  {
   "cell_type": "code",
   "execution_count": 36,
   "id": "4b9f24ce",
   "metadata": {},
   "outputs": [
    {
     "data": {
      "text/plain": [
       "array([3, 2, 2, ..., 2, 9, 4])"
      ]
     },
     "execution_count": 36,
     "metadata": {},
     "output_type": "execute_result"
    }
   ],
   "source": [
    "kmeans.fit_predict(data['vectors'])"
   ]
  },
  {
   "cell_type": "code",
   "execution_count": 32,
   "id": "772510d8",
   "metadata": {},
   "outputs": [
    {
     "data": {
      "text/plain": [
       "array([3, 2, 2, ..., 2, 9, 4])"
      ]
     },
     "execution_count": 32,
     "metadata": {},
     "output_type": "execute_result"
    }
   ],
   "source": [
    "kmeans.labels_"
   ]
  },
  {
   "cell_type": "code",
   "execution_count": 38,
   "id": "c0aa8f88",
   "metadata": {},
   "outputs": [
    {
     "data": {
      "text/plain": [
       "0.7096367"
      ]
     },
     "execution_count": 38,
     "metadata": {},
     "output_type": "execute_result"
    }
   ],
   "source": [
    "pca.explained_variance_[0]"
   ]
  },
  {
   "cell_type": "code",
   "execution_count": 42,
   "id": "04cb24ca",
   "metadata": {},
   "outputs": [
    {
     "data": {
      "text/plain": [
       "<bound method BaseEstimator.get_params of KMeans(max_iter=50, n_clusters=10, random_state=2, tol=0.05)>"
      ]
     },
     "execution_count": 42,
     "metadata": {},
     "output_type": "execute_result"
    }
   ],
   "source": [
    "kmeans.get_params"
   ]
  },
  {
   "cell_type": "code",
   "execution_count": null,
   "id": "4ca9699b",
   "metadata": {},
   "outputs": [],
   "source": []
  },
  {
   "cell_type": "code",
   "execution_count": null,
   "id": "7e8c1524",
   "metadata": {},
   "outputs": [],
   "source": []
  },
  {
   "cell_type": "code",
   "execution_count": 9,
   "id": "d00592c3",
   "metadata": {},
   "outputs": [],
   "source": [
    "def cluster_articles(df):\n",
    "\n",
    "    df = {}\n",
    "    df['id'] = data['id']\n",
    "    df['vectors'] = data['vectors']\n",
    "    df['group'] = data['group']\n",
    "    \n",
    "    kmeans = KMeans(\n",
    "        n_clusters=10, \n",
    "        random_state = 2, \n",
    "        tol=0.05, \n",
    "        max_iter=50\n",
    "    )\n",
    "    \n",
    "    pca = PCA(n_components = 10, random_state = 2)\n",
    "    df['vectors'] = pca.fit(df['vectors'])\n",
    "    \n",
    "    \n",
    "    kmeans.fit(df)\n",
    "    \n",
    "    return {kmeans., df['vectors'].explained_variance_}"
   ]
  },
  {
   "cell_type": "code",
   "execution_count": null,
   "id": "f8e49f0a",
   "metadata": {},
   "outputs": [],
   "source": []
  }
 ],
 "metadata": {
  "kernelspec": {
   "display_name": "Python 3 (ipykernel)",
   "language": "python",
   "name": "python3"
  },
  "language_info": {
   "codemirror_mode": {
    "name": "ipython",
    "version": 3
   },
   "file_extension": ".py",
   "mimetype": "text/x-python",
   "name": "python",
   "nbconvert_exporter": "python",
   "pygments_lexer": "ipython3",
   "version": "3.9.12"
  }
 },
 "nbformat": 4,
 "nbformat_minor": 5
}
