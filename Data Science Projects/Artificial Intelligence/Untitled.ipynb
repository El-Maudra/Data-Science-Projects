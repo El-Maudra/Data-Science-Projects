{
 "cells": [
  {
   "cell_type": "markdown",
   "id": "027d5baf",
   "metadata": {},
   "source": [
    "### Write a function that returns the maximum value in an array"
   ]
  },
  {
   "cell_type": "code",
   "execution_count": 3,
   "id": "2eab5284",
   "metadata": {},
   "outputs": [
    {
     "data": {
      "text/plain": [
       "5"
      ]
     },
     "execution_count": 3,
     "metadata": {},
     "output_type": "execute_result"
    }
   ],
   "source": [
    "def MaxArray(xs):\n",
    "    m = xs[0]\n",
    "    for x in xs:\n",
    "        if x > m:\n",
    "            m = x\n",
    "    return m\n",
    "\n",
    "data = [10,121,346,6473,794,455]\n",
    "MaxArray(data)"
   ]
  },
  {
   "cell_type": "markdown",
   "id": "0d9d33f1",
   "metadata": {},
   "source": [
    "### Write a function that returns the minimum value in an array"
   ]
  },
  {
   "cell_type": "code",
   "execution_count": 9,
   "id": "12fd670b",
   "metadata": {},
   "outputs": [
    {
     "data": {
      "text/plain": [
       "-9"
      ]
     },
     "execution_count": 9,
     "metadata": {},
     "output_type": "execute_result"
    }
   ],
   "source": [
    "def MinArray(xs):\n",
    "    m = xs[0]\n",
    "    for x in xs:\n",
    "        if x < m:\n",
    "            m = x\n",
    "    return m\n",
    "\n",
    "data = [10,1,346,-9,794,455]\n",
    "MinArray(data)"
   ]
  },
  {
   "cell_type": "code",
   "execution_count": 10,
   "id": "dfbb5725",
   "metadata": {},
   "outputs": [
    {
     "name": "stdout",
     "output_type": "stream",
     "text": [
      "[0.9968177]\n"
     ]
    }
   ],
   "source": [
    "from numpy import exp, array, random, dot\n",
    "\n",
    "#Set up parameters ===============================================\n",
    "inputs = array([[0, 0], [1, 1], [1, 0], [0, 1]])\n",
    "outputs = array([[0, 1, 1, 1]]).T\n",
    "random.seed(1)\n",
    "weights = 2 * random.random((2, 1)) - 1\n",
    "\n",
    "#Define a Single Neuron function =================================\n",
    "def neuron(inputs, weights):\n",
    "    output = 1 / (1 + exp(-(dot(inputs, weights))))\n",
    "    return output\n",
    "\n",
    "#Train the Neuron ================================================\n",
    "for iteration in range(50000):\n",
    "    output = 1 / (1 + exp(-(dot(inputs, weights))))\n",
    "    weights += dot(inputs.T, (outputs - output) * output * (1 - output))\n",
    "    \n",
    "#Test the Neuron =================================================\n",
    "x = array([1, 0])\n",
    "print (neuron (x,weights))"
   ]
  },
  {
   "cell_type": "code",
   "execution_count": 22,
   "id": "e415dfab",
   "metadata": {},
   "outputs": [
    {
     "name": "stdout",
     "output_type": "stream",
     "text": [
      "Model: \"sequential_5\"\n",
      "_________________________________________________________________\n",
      " Layer (type)                Output Shape              Param #   \n",
      "=================================================================\n",
      " dense_15 (Dense)            (None, 128)               3968      \n",
      "                                                                 \n",
      " dense_16 (Dense)            (None, 64)                8256      \n",
      "                                                                 \n",
      " dense_17 (Dense)            (None, 10)                650       \n",
      "                                                                 \n",
      "=================================================================\n",
      "Total params: 12,874\n",
      "Trainable params: 12,874\n",
      "Non-trainable params: 0\n",
      "_________________________________________________________________\n",
      "None\n",
      "{'name': 'sequential_5', 'layers': [{'class_name': 'InputLayer', 'config': {'batch_input_shape': (None, 30), 'dtype': 'float32', 'sparse': False, 'ragged': False, 'name': 'dense_15_input'}}, {'class_name': 'Dense', 'config': {'name': 'dense_15', 'trainable': True, 'dtype': 'float32', 'batch_input_shape': (None, 30), 'units': 128, 'activation': 'relu', 'use_bias': True, 'kernel_initializer': {'class_name': 'GlorotUniform', 'config': {'seed': None}}, 'bias_initializer': {'class_name': 'Zeros', 'config': {}}, 'kernel_regularizer': None, 'bias_regularizer': None, 'activity_regularizer': None, 'kernel_constraint': None, 'bias_constraint': None}}, {'class_name': 'Dense', 'config': {'name': 'dense_16', 'trainable': True, 'dtype': 'float32', 'units': 64, 'activation': 'relu', 'use_bias': True, 'kernel_initializer': {'class_name': 'GlorotUniform', 'config': {'seed': None}}, 'bias_initializer': {'class_name': 'Zeros', 'config': {}}, 'kernel_regularizer': None, 'bias_regularizer': None, 'activity_regularizer': None, 'kernel_constraint': None, 'bias_constraint': None}}, {'class_name': 'Dense', 'config': {'name': 'dense_17', 'trainable': True, 'dtype': 'float32', 'units': 10, 'activation': 'softmax', 'use_bias': True, 'kernel_initializer': {'class_name': 'GlorotUniform', 'config': {'seed': None}}, 'bias_initializer': {'class_name': 'Zeros', 'config': {}}, 'kernel_regularizer': None, 'bias_regularizer': None, 'activity_regularizer': None, 'kernel_constraint': None, 'bias_constraint': None}}]}\n"
     ]
    }
   ],
   "source": [
    "from keras.models import Sequential\n",
    "from keras.layers import Activation, Dense\n",
    "from keras import optimizers\n",
    "from sklearn.datasets import load_breast_cancer\n",
    "from sklearn.model_selection import train_test_split\n",
    "whole_data = load_breast_cancer()\n",
    "X_data = whole_data.data\n",
    "y_data = whole_data.target\n",
    "X_train, X_test, y_train, y_test = train_test_split(X_data, y_data, \n",
    "test_size = 0.3, random_state = 7) \n",
    "features = X_train.shape[1]\n",
    "\n",
    "#MPL 3-layer Model ==============================================\n",
    "model = Sequential()\n",
    "model.add(Dense(128, activation='relu', input_shape=[X_train.shape[1]]))\n",
    "model.add(Dense(64, activation='relu'))\n",
    "model.add(Dense(10, activation='softmax'))\n",
    "print(model.summary())\n",
    "print(model.get_config())\n",
    "model.compile(optimizer = 'adam', loss = 'mean_squared_error', metrics = ['mse']) "
   ]
  },
  {
   "cell_type": "code",
   "execution_count": 23,
   "id": "7bc875a0",
   "metadata": {},
   "outputs": [
    {
     "name": "stdout",
     "output_type": "stream",
     "text": [
      "Epoch 1/10\n",
      "7/7 [==============================] - 2s 79ms/step - loss: 0.5688 - mse: 0.5688 - val_loss: 0.6207 - val_mse: 0.6207\n",
      "Epoch 2/10\n",
      "7/7 [==============================] - 0s 9ms/step - loss: 0.5658 - mse: 0.5658 - val_loss: 0.6252 - val_mse: 0.6252\n",
      "Epoch 3/10\n",
      "7/7 [==============================] - 0s 10ms/step - loss: 0.5722 - mse: 0.5722 - val_loss: 0.6300 - val_mse: 0.6300\n",
      "Epoch 4/10\n",
      "7/7 [==============================] - 0s 12ms/step - loss: 0.5730 - mse: 0.5730 - val_loss: 0.6300 - val_mse: 0.6300\n",
      "Epoch 5/10\n",
      "7/7 [==============================] - 0s 10ms/step - loss: 0.5730 - mse: 0.5730 - val_loss: 0.6300 - val_mse: 0.6300\n",
      "Epoch 6/10\n",
      "7/7 [==============================] - 0s 10ms/step - loss: 0.5730 - mse: 0.5730 - val_loss: 0.6300 - val_mse: 0.6300\n",
      "Epoch 7/10\n",
      "7/7 [==============================] - 0s 10ms/step - loss: 0.5730 - mse: 0.5730 - val_loss: 0.6300 - val_mse: 0.6300\n",
      "Epoch 8/10\n",
      "7/7 [==============================] - 0s 13ms/step - loss: 0.5730 - mse: 0.5730 - val_loss: 0.6300 - val_mse: 0.6300\n",
      "Epoch 9/10\n",
      "7/7 [==============================] - 0s 10ms/step - loss: 0.5730 - mse: 0.5730 - val_loss: 0.6300 - val_mse: 0.6300\n",
      "Epoch 10/10\n",
      "7/7 [==============================] - 0s 10ms/step - loss: 0.5730 - mse: 0.5730 - val_loss: 0.6300 - val_mse: 0.6300\n",
      "6/6 [==============================] - 0s 8ms/step - loss: 0.6427 - mse: 0.6427\n",
      "loss:  0.6426900029182434\n",
      "accuracy:  0.6426900029182434\n"
     ]
    }
   ],
   "source": [
    "model.fit(X_train, y_train, batch_size = 50, validation_split=0.2, \n",
    "epochs = 10, verbose = 1)\n",
    "results = model.evaluate(X_test, y_test)\n",
    "print('loss: ', results[0])\n",
    "print('accuracy: ', results[1])"
   ]
  },
  {
   "cell_type": "code",
   "execution_count": null,
   "id": "8dc23730",
   "metadata": {},
   "outputs": [],
   "source": []
  }
 ],
 "metadata": {
  "kernelspec": {
   "display_name": "Python 3 (ipykernel)",
   "language": "python",
   "name": "python3"
  },
  "language_info": {
   "codemirror_mode": {
    "name": "ipython",
    "version": 3
   },
   "file_extension": ".py",
   "mimetype": "text/x-python",
   "name": "python",
   "nbconvert_exporter": "python",
   "pygments_lexer": "ipython3",
   "version": "3.9.12"
  }
 },
 "nbformat": 4,
 "nbformat_minor": 5
}
