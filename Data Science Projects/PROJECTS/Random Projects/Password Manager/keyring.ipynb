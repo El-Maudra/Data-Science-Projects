{
 "cells": [
  {
   "cell_type": "markdown",
   "id": "f237a6bc-0236-4a60-baa5-8fb671dba4c0",
   "metadata": {},
   "source": [
    "# Keyring Module\n",
    "This is a python library specifically designed to securely store and retrieve passwords."
   ]
  },
  {
   "cell_type": "markdown",
   "id": "68ed1353-dbf2-432f-87c0-48616cf95261",
   "metadata": {},
   "source": [
    "## Importing the library"
   ]
  },
  {
   "cell_type": "code",
   "execution_count": 1,
   "id": "a7c5afd9-c991-44f6-9ced-6993d5145e79",
   "metadata": {},
   "outputs": [],
   "source": [
    "import keyring as kr"
   ]
  },
  {
   "cell_type": "markdown",
   "id": "e44cc878-1c48-4686-ab41-cf6e09af2911",
   "metadata": {},
   "source": [
    "To save a password we will use the `set_password()` method which takes 3 parameters\n",
    "- [ ] \r\n",
    "servicename – The name of the service i.e to a certain organization with which the person is related \n",
    "- [ ] .\r\n",
    "username – Username of the pers\n",
    "- [ ] n.\r\n",
    "password – Password associated with that username."
   ]
  },
  {
   "cell_type": "code",
   "execution_count": 2,
   "id": "c8a39870-505d-4076-baac-958dd2f5e554",
   "metadata": {},
   "outputs": [],
   "source": [
    "kr.set_password(\"kenbright.com\",\"Walter\",\"password123\")"
   ]
  },
  {
   "cell_type": "markdown",
   "id": "76bc2ec6-9fc1-4b4b-9788-219720a7174b",
   "metadata": {},
   "source": [
    "To retrieve the saved password we will use the get_password() method. It takes two parameters.\r",
    "- [ ] \r\n",
    "Servicena</br>\n",
    "- [ ] e\r\n",
    "Usern</br>ame"
   ]
  },
  {
   "cell_type": "code",
   "execution_count": 3,
   "id": "b099117a-6f3d-4f85-9f35-b56afc3a53e1",
   "metadata": {},
   "outputs": [
    {
     "data": {
      "text/plain": [
       "'password123'"
      ]
     },
     "execution_count": 3,
     "metadata": {},
     "output_type": "execute_result"
    }
   ],
   "source": [
    "kr.get_password(\"kenbright.com\", \"Walter\")"
   ]
  },
  {
   "cell_type": "code",
   "execution_count": 6,
   "id": "3bbcb277-af77-4846-8eba-8b4dd91b0e38",
   "metadata": {},
   "outputs": [
    {
     "name": "stdout",
     "output_type": "stream",
     "text": [
      "Username: Walter\n",
      "Password: password123\n"
     ]
    }
   ],
   "source": [
    "# getting credentials\n",
    "\n",
    "credentials = kr.get_credential(\"kenbright.com\",\"\")\n",
    "print(f\"Username: {credentials.username}\\nPassword: {credentials.password}\")"
   ]
  },
  {
   "cell_type": "code",
   "execution_count": null,
   "id": "a35d83c2-3bcb-461c-bc41-f9b1fec3dd72",
   "metadata": {},
   "outputs": [],
   "source": []
  }
 ],
 "metadata": {
  "kernelspec": {
   "display_name": "Python 3 (ipykernel)",
   "language": "python",
   "name": "python3"
  },
  "language_info": {
   "codemirror_mode": {
    "name": "ipython",
    "version": 3
   },
   "file_extension": ".py",
   "mimetype": "text/x-python",
   "name": "python",
   "nbconvert_exporter": "python",
   "pygments_lexer": "ipython3",
   "version": "3.11.7"
  }
 },
 "nbformat": 4,
 "nbformat_minor": 5
}
