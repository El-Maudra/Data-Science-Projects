{
 "cells": [
  {
   "cell_type": "markdown",
   "metadata": {},
   "source": [
    "# Importing Necessary Libraries"
   ]
  },
  {
   "cell_type": "code",
   "execution_count": 1,
   "metadata": {},
   "outputs": [],
   "source": [
    "import pandas as pd\n",
    "import numpy as np\n",
    "from matplotlib import pyplot as plt\n",
    "import seaborn as sns\n",
    "\n",
    "import warnings\n",
    "warnings.filterwarnings(\"ignore\")"
   ]
  },
  {
   "cell_type": "markdown",
   "metadata": {},
   "source": [
    "# Importing the data"
   ]
  },
  {
   "cell_type": "code",
   "execution_count": 2,
   "metadata": {},
   "outputs": [],
   "source": [
    "blogs = pd.read_csv(\"./data/Blogs.csv\")\n",
    "comments = pd.read_csv(\"./data/Comments.csv\")\n",
    "competitions = pd.read_csv(\"./data/Competition.csv\")\n",
    "competition_participations = pd.read_csv(\"./data/CompetitionPartipation.csv\")\n",
    "discussions = pd.read_csv(\"./data/Discussion.csv\")\n",
    "jobs = pd.read_csv(\"./data/Jobs.csv\")\n",
    "user_activity = pd.read_csv(\"./data/UserActivity.csv\")\n",
    "users = pd.read_csv(\"./data/Users.csv\")\n",
    "sample_submission = pd.read_csv(\"./data/SampleSubmission.csv\")"
   ]
  },
  {
   "cell_type": "code",
   "execution_count": 3,
   "metadata": {},
   "outputs": [
    {
     "data": {
      "text/html": [
       "<div>\n",
       "<style scoped>\n",
       "    .dataframe tbody tr th:only-of-type {\n",
       "        vertical-align: middle;\n",
       "    }\n",
       "\n",
       "    .dataframe tbody tr th {\n",
       "        vertical-align: top;\n",
       "    }\n",
       "\n",
       "    .dataframe thead th {\n",
       "        text-align: right;\n",
       "    }\n",
       "</style>\n",
       "<table border=\"1\" class=\"dataframe\">\n",
       "  <thead>\n",
       "    <tr style=\"text-align: right;\">\n",
       "      <th></th>\n",
       "      <th>User_ID_Next_month_Activity</th>\n",
       "      <th>Active</th>\n",
       "    </tr>\n",
       "  </thead>\n",
       "  <tbody>\n",
       "    <tr>\n",
       "      <th>0</th>\n",
       "      <td>ID_4TOXNBGB_Month_5</td>\n",
       "      <td>0</td>\n",
       "    </tr>\n",
       "    <tr>\n",
       "      <th>1</th>\n",
       "      <td>ID_CHFTIP26_Month_5</td>\n",
       "      <td>0</td>\n",
       "    </tr>\n",
       "    <tr>\n",
       "      <th>2</th>\n",
       "      <td>ID_FU5GMWLQ_Month_5</td>\n",
       "      <td>0</td>\n",
       "    </tr>\n",
       "  </tbody>\n",
       "</table>\n",
       "</div>"
      ],
      "text/plain": [
       "  User_ID_Next_month_Activity  Active\n",
       "0         ID_4TOXNBGB_Month_5       0\n",
       "1         ID_CHFTIP26_Month_5       0\n",
       "2         ID_FU5GMWLQ_Month_5       0"
      ]
     },
     "execution_count": 3,
     "metadata": {},
     "output_type": "execute_result"
    }
   ],
   "source": [
    "sample_submission.head(3)"
   ]
  },
  {
   "cell_type": "code",
   "execution_count": 4,
   "metadata": {},
   "outputs": [],
   "source": [
    "# A list of all our imported data\n",
    "df_list = [blogs, comments, competitions, competition_participations, discussions, jobs, user_activity, users]\n",
    "\n",
    "# A list of names of our data\n",
    "names = ['blogs', 'comments', 'competitions', 'competition_participations', 'discussions', 'jobs', 'user_activity', 'users']"
   ]
  },
  {
   "cell_type": "markdown",
   "metadata": {},
   "source": [
    "### Columns"
   ]
  },
  {
   "cell_type": "code",
   "execution_count": 5,
   "metadata": {},
   "outputs": [
    {
     "name": "stdout",
     "output_type": "stream",
     "text": [
      "\n",
      "blogs\n",
      "Index(['Theme', 'blog_ID', 'Published At time', 'Published At Year',\n",
      "       'Published At Month', 'Month Name', 'Published At Day_of_month'],\n",
      "      dtype='object')\n",
      "\n",
      "comments\n",
      "Index(['Disc_ID', 'User_ID', 'Created At time', 'Created At Year',\n",
      "       'Created At Month', 'Created At Day_of_month'],\n",
      "      dtype='object')\n",
      "\n",
      "competitions\n",
      "Index(['FeatureA', 'FeatureB', 'FeatureC', 'FeatureD', 'FeatureE',\n",
      "       'SecretCode', 'FeatureF', 'FeatureG', 'FeatureH', 'FeatureI',\n",
      "       'Country_ID', 'Comp_ID', 'End Time time', 'End Time Year',\n",
      "       'End Time Month', 'End Time Day_of_month', 'Start Time time',\n",
      "       'Start Time Year', 'Start Time Month', 'Start Time Day_of_month'],\n",
      "      dtype='object')\n",
      "\n",
      "competition_participations\n",
      "Index(['Competition ID', 'Participant Type', 'Successful Submission Count',\n",
      "       'User_ID', 'Created At time', 'Created At Year', 'Created At Month',\n",
      "       'Created At Day_of_month'],\n",
      "      dtype='object')\n",
      "\n",
      "discussions\n",
      "Index(['Competition ID', 'Personal', 'Theme', 'Disc_ID', 'User_ID',\n",
      "       'Created At time', 'Created At Year', 'Created At Month',\n",
      "       'Created At Day_of_month'],\n",
      "      dtype='object')\n",
      "\n",
      "jobs\n",
      "Index(['Remote', 'Experience', 'Industry', 'Employment Type', 'Company Size',\n",
      "       'Data Science Functions', 'job_ID'],\n",
      "      dtype='object')\n",
      "\n",
      "user_activity\n",
      "Index(['User_ID', 'Title', 'datetime time', 'datetime Year', 'datetime Month',\n",
      "       'Month Name', 'datetime Day_of_month'],\n",
      "      dtype='object')\n",
      "\n",
      "users\n",
      "Index(['FeatureX', 'FeatureY', 'User_ID', 'Countries_ID', 'Created At time',\n",
      "       'Created At Year', 'Created At Month', 'Month Name',\n",
      "       'Created At Day_of_month'],\n",
      "      dtype='object')\n"
     ]
    }
   ],
   "source": [
    "# a function that returns the columns in each item in our data list\n",
    "def check_columns(data_list):    \n",
    "    for (df, name) in zip(data_list, names):\n",
    "        print(f\"\\n{name}\",)\n",
    "        print(df.columns)\n",
    "    \n",
    "\n",
    "check_columns(df_list)"
   ]
  },
  {
   "cell_type": "markdown",
   "metadata": {},
   "source": [
    "### Shape of the data"
   ]
  },
  {
   "cell_type": "code",
   "execution_count": 6,
   "metadata": {},
   "outputs": [
    {
     "name": "stdout",
     "output_type": "stream",
     "text": [
      "\n",
      "blogs\n",
      "(117, 7)\n",
      "\n",
      "comments\n",
      "(467, 6)\n",
      "\n",
      "competitions\n",
      "(247, 20)\n",
      "\n",
      "competition_participations\n",
      "(8385, 8)\n",
      "\n",
      "discussions\n",
      "(1439, 9)\n",
      "\n",
      "jobs\n",
      "(34, 7)\n",
      "\n",
      "user_activity\n",
      "(317292, 7)\n",
      "\n",
      "users\n",
      "(12413, 9)\n"
     ]
    }
   ],
   "source": [
    "# a function that returns the shape of each item in our data list\n",
    "def check_shape(data_list):    \n",
    "    for (df, name) in zip(data_list, names):\n",
    "        print(f\"\\n{name}\")\n",
    "        print(df.shape)\n",
    "\n",
    "check_shape(df_list)"
   ]
  },
  {
   "cell_type": "markdown",
   "metadata": {},
   "source": [
    "### Percentage of missing values in the datasets"
   ]
  },
  {
   "cell_type": "code",
   "execution_count": 7,
   "metadata": {},
   "outputs": [
    {
     "name": "stdout",
     "output_type": "stream",
     "text": [
      "\n",
      "blogs:\n",
      "0.37%\n",
      "\n",
      "comments:\n",
      "0.0%\n",
      "\n",
      "competitions:\n",
      "6.68%\n",
      "\n",
      "competition_participations:\n",
      "10.34%\n",
      "\n",
      "discussions:\n",
      "9.88%\n",
      "\n",
      "jobs:\n",
      "18.91%\n",
      "\n",
      "user_activity:\n",
      "0.0%\n",
      "\n",
      "users:\n",
      "5.27%\n"
     ]
    }
   ],
   "source": [
    "# Function that checks the missing values in our data and returns the name of our data as well as the % of missing values\n",
    "def check_missing_values(data_list, data_names):\n",
    "    def missing_values(data):\n",
    "        missing_values_df = data.isna().sum()\n",
    "        sum_all_missing_values_in_df = missing_values_df.sum()\n",
    "        total_cells = data.size\n",
    "        percentage = round((sum_all_missing_values_in_df/total_cells)*100, 2)\n",
    "        return f'{percentage}%'\n",
    "\n",
    "    for (df, name) in zip(data_list, data_names):\n",
    "        print(f\"\\n{name}:\")\n",
    "        print(missing_values(df))\n",
    "\n",
    "check_missing_values(df_list, names)\n"
   ]
  },
  {
   "cell_type": "markdown",
   "metadata": {},
   "source": [
    "### Percentage of duplicate values in the datasets"
   ]
  },
  {
   "cell_type": "code",
   "execution_count": 9,
   "metadata": {},
   "outputs": [
    {
     "name": "stdout",
     "output_type": "stream",
     "text": [
      "\n",
      "blogs:\n",
      "0.0%\n",
      "\n",
      "comments:\n",
      "0.0%\n",
      "\n",
      "competitions:\n",
      "0.0%\n",
      "\n",
      "competition_participations:\n",
      "0.0%\n",
      "\n",
      "discussions:\n",
      "0.0%\n",
      "\n",
      "jobs:\n",
      "0.0%\n",
      "\n",
      "user_activity:\n",
      "0.0%\n",
      "\n",
      "users:\n",
      "0.0%\n"
     ]
    }
   ],
   "source": [
    "# Function that checks the duplicate values in our data and returns the name of our data as well as the % of duplicate values\n",
    "\n",
    "def check_duplicate_values(data_list, data_names):\n",
    "    def duplicate_values(data):\n",
    "        duplicate_values_df = data.duplicated().sum()\n",
    "        sum_all_duplicate_values_in_df = duplicate_values_df.sum()\n",
    "        total_cells = data.size\n",
    "        percentage = (sum_all_duplicate_values_in_df/total_cells)*100\n",
    "        return f'{percentage}%'\n",
    "\n",
    "    for (df, name) in zip(data_list, data_names):\n",
    "        print(f\"\\n{name}:\")\n",
    "        print(duplicate_values(df))\n",
    "\n",
    "check_duplicate_values(df_list, names)"
   ]
  },
  {
   "cell_type": "markdown",
   "metadata": {},
   "source": [
    "# Merging of data\n",
    "\n",
    "Merging Users Data, Discussion Data and Comments Data using the unique id - `User_ID`"
   ]
  },
  {
   "cell_type": "markdown",
   "metadata": {},
   "source": [
    "The user who created the discussion, this can be merged with the User table on UserID"
   ]
  },
  {
   "cell_type": "code",
   "execution_count": 10,
   "metadata": {},
   "outputs": [
    {
     "name": "stdout",
     "output_type": "stream",
     "text": [
      "Discussion: (1439, 9)\n",
      "\n",
      "User:       (12413, 9)\n",
      "\n",
      "Comment:    (467, 6)\n"
     ]
    }
   ],
   "source": [
    "print(f\"Discussion: {discussions.shape}\\n\")\n",
    "print(f\"User:       {users.shape}\\n\")\n",
    "print(f\"Comment:    {comments.shape}\")"
   ]
  },
  {
   "cell_type": "markdown",
   "metadata": {},
   "source": [
    "#### Shape of the merged data"
   ]
  },
  {
   "cell_type": "code",
   "execution_count": 20,
   "metadata": {},
   "outputs": [
    {
     "data": {
      "text/plain": [
       "(13616, 22)"
      ]
     },
     "execution_count": 20,
     "metadata": {},
     "output_type": "execute_result"
    }
   ],
   "source": [
    "merge_1 = pd.merge(discussions, comments, on='User_ID', how='outer')\n",
    "all_merged_data = pd.merge(merge_1, users, on='User_ID', how='outer')\n",
    "all_merged_data.shape"
   ]
  },
  {
   "cell_type": "markdown",
   "metadata": {},
   "source": [
    "#### Missing values of the merged data"
   ]
  },
  {
   "cell_type": "code",
   "execution_count": 17,
   "metadata": {},
   "outputs": [
    {
     "name": "stdout",
     "output_type": "stream",
     "text": [
      "54.17 %\n"
     ]
    }
   ],
   "source": [
    "missing_values_df = all_merged_data.isna().sum()\n",
    "sum_all_missing_values_in_df = missing_values_df.sum()\n",
    "total_cells = all_merged_data.size\n",
    "percentage = round((sum_all_missing_values_in_df/total_cells)*100, 2)\n",
    "print(percentage,'%')"
   ]
  },
  {
   "cell_type": "markdown",
   "metadata": {},
   "source": [
    "#### Duplicate values of the merged data"
   ]
  },
  {
   "cell_type": "code",
   "execution_count": 19,
   "metadata": {},
   "outputs": [
    {
     "name": "stdout",
     "output_type": "stream",
     "text": [
      "0.0 %\n"
     ]
    }
   ],
   "source": [
    "duplicate_values_df = all_merged_data.duplicated().sum()\n",
    "sum_all_duplicate_values_in_df = duplicate_values_df.sum()\n",
    "total_cells = all_merged_data.size\n",
    "percentage = round((sum_all_duplicate_values_in_df/total_cells)*100, 2)\n",
    "print(percentage,'%')"
   ]
  },
  {
   "cell_type": "code",
   "execution_count": 21,
   "metadata": {},
   "outputs": [
    {
     "data": {
      "text/plain": [
       "Competition ID               11495\n",
       "Personal                     11495\n",
       "Theme                        13272\n",
       "Disc_ID_x                    11495\n",
       "User_ID                          0\n",
       "Created At time_x            11495\n",
       "Created At Year_x            11495\n",
       "Created At Month_x           11495\n",
       "Created At Day_of_month_x    11495\n",
       "Disc_ID_y                    12502\n",
       "Created At time_y            12502\n",
       "Created At Year_y            12502\n",
       "Created At Month_y           12502\n",
       "Created At Day_of_month_y    12502\n",
       "FeatureX                         0\n",
       "FeatureY                         0\n",
       "Countries_ID                  6035\n",
       "Created At time                  0\n",
       "Created At Year                  0\n",
       "Created At Month                 0\n",
       "Month Name                       0\n",
       "Created At Day_of_month          0\n",
       "dtype: int64"
      ]
     },
     "execution_count": 21,
     "metadata": {},
     "output_type": "execute_result"
    }
   ],
   "source": [
    "all_merged_data.isna().sum()"
   ]
  },
  {
   "cell_type": "code",
   "execution_count": null,
   "metadata": {},
   "outputs": [],
   "source": []
  }
 ],
 "metadata": {
  "kernelspec": {
   "display_name": "Python 3 (ipykernel)",
   "language": "python",
   "name": "python3"
  },
  "language_info": {
   "codemirror_mode": {
    "name": "ipython",
    "version": 3
   },
   "file_extension": ".py",
   "mimetype": "text/x-python",
   "name": "python",
   "nbconvert_exporter": "python",
   "pygments_lexer": "ipython3",
   "version": "3.9.12"
  },
  "vscode": {
   "interpreter": {
    "hash": "ad2bdc8ecc057115af97d19610ffacc2b4e99fae6737bb82f5d7fb13d2f2c186"
   }
  }
 },
 "nbformat": 4,
 "nbformat_minor": 2
}
