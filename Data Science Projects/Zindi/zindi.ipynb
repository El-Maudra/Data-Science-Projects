{
 "cells": [
  {
   "cell_type": "markdown",
   "metadata": {},
   "source": [
    "# Importing Necessary Libraries"
   ]
  },
  {
   "cell_type": "code",
   "execution_count": 1,
   "metadata": {},
   "outputs": [],
   "source": [
    "import pandas as pd\n",
    "import numpy as np\n",
    "from matplotlib import pyplot as plt\n",
    "\n",
    "import warnings\n",
    "warnings.filterwarnings(\"ignore\")"
   ]
  },
  {
   "cell_type": "markdown",
   "metadata": {},
   "source": [
    "# Importing the data"
   ]
  },
  {
   "cell_type": "code",
   "execution_count": 4,
   "metadata": {},
   "outputs": [],
   "source": [
    "blogs = pd.read_csv(\"./data/Blogs.csv\")\n",
    "comments = pd.read_csv(\"./data/Comments.csv\")\n",
    "competitions = pd.read_csv(\"./data/Competition.csv\")\n",
    "competition_participations = pd.read_csv(\"./data/CompetitionPartipation.csv\")\n",
    "discussions = pd.read_csv(\"./data/Discussion.csv\")\n",
    "jobs = pd.read_csv(\"./data/Jobs.csv\")\n",
    "user_activity = pd.read_csv(\"./data/UserActivity.csv\")\n",
    "users = pd.read_csv(\"./data/Users.csv\")\n",
    "sample_submission = pd.read_csv(\"./data/SampleSubmission.csv\")"
   ]
  },
  {
   "cell_type": "code",
   "execution_count": 9,
   "metadata": {},
   "outputs": [
    {
     "data": {
      "text/html": [
       "<div>\n",
       "<style scoped>\n",
       "    .dataframe tbody tr th:only-of-type {\n",
       "        vertical-align: middle;\n",
       "    }\n",
       "\n",
       "    .dataframe tbody tr th {\n",
       "        vertical-align: top;\n",
       "    }\n",
       "\n",
       "    .dataframe thead th {\n",
       "        text-align: right;\n",
       "    }\n",
       "</style>\n",
       "<table border=\"1\" class=\"dataframe\">\n",
       "  <thead>\n",
       "    <tr style=\"text-align: right;\">\n",
       "      <th></th>\n",
       "      <th>User_ID_Next_month_Activity</th>\n",
       "      <th>Active</th>\n",
       "    </tr>\n",
       "  </thead>\n",
       "  <tbody>\n",
       "    <tr>\n",
       "      <th>0</th>\n",
       "      <td>ID_4TOXNBGB_Month_5</td>\n",
       "      <td>0</td>\n",
       "    </tr>\n",
       "    <tr>\n",
       "      <th>1</th>\n",
       "      <td>ID_CHFTIP26_Month_5</td>\n",
       "      <td>0</td>\n",
       "    </tr>\n",
       "    <tr>\n",
       "      <th>2</th>\n",
       "      <td>ID_FU5GMWLQ_Month_5</td>\n",
       "      <td>0</td>\n",
       "    </tr>\n",
       "  </tbody>\n",
       "</table>\n",
       "</div>"
      ],
      "text/plain": [
       "  User_ID_Next_month_Activity  Active\n",
       "0         ID_4TOXNBGB_Month_5       0\n",
       "1         ID_CHFTIP26_Month_5       0\n",
       "2         ID_FU5GMWLQ_Month_5       0"
      ]
     },
     "execution_count": 9,
     "metadata": {},
     "output_type": "execute_result"
    }
   ],
   "source": [
    "sample_submission.head(3)"
   ]
  },
  {
   "cell_type": "code",
   "execution_count": 42,
   "metadata": {},
   "outputs": [],
   "source": [
    "# A list of all our imported data\n",
    "df_list = [blogs, comments, competitions, competition_participations, discussions, jobs, user_activity, users]\n",
    "\n",
    "# A list of names of our data\n",
    "names = ['blogs', 'comments', 'competitions', 'competition_participations', 'discussions', 'jobs', 'user_activity', 'users']"
   ]
  },
  {
   "cell_type": "code",
   "execution_count": 48,
   "metadata": {},
   "outputs": [
    {
     "name": "stdout",
     "output_type": "stream",
     "text": [
      "\n",
      "blogs\n",
      "Index(['Theme', 'blog_ID', 'Published At time', 'Published At Year',\n",
      "       'Published At Month', 'Published At Day_of_month'],\n",
      "      dtype='object')\n",
      "\n",
      "comments\n",
      "Index(['Disc_ID', 'User_ID', 'Created At time', 'Created At Year',\n",
      "       'Created At Month', 'Created At Day_of_month'],\n",
      "      dtype='object')\n",
      "\n",
      "competitions\n",
      "Index(['FeatureA', 'FeatureB', 'FeatureC', 'FeatureD', 'FeatureE',\n",
      "       'SecretCode', 'FeatureF', 'FeatureG', 'FeatureH', 'FeatureI',\n",
      "       'Country_ID', 'Comp_ID', 'End Time time', 'End Time Year',\n",
      "       'End Time Month', 'End Time Day_of_month', 'Start Time time',\n",
      "       'Start Time Year', 'Start Time Month', 'Start Time Day_of_month'],\n",
      "      dtype='object')\n",
      "\n",
      "competition_participations\n",
      "Index(['Competition ID', 'Participant Type', 'Successful Submission Count',\n",
      "       'User_ID', 'Created At time', 'Created At Year', 'Created At Month',\n",
      "       'Created At Day_of_month'],\n",
      "      dtype='object')\n",
      "\n",
      "discussions\n",
      "Index(['Competition ID', 'Personal', 'Theme', 'Disc_ID', 'User_ID',\n",
      "       'Created At time', 'Created At Year', 'Created At Month',\n",
      "       'Created At Day_of_month'],\n",
      "      dtype='object')\n",
      "\n",
      "jobs\n",
      "Index(['Remote', 'Experience', 'Industry', 'Employment Type', 'Company Size',\n",
      "       'Data Science Functions', 'job_ID'],\n",
      "      dtype='object')\n",
      "\n",
      "user_activity\n",
      "Index(['User_ID', 'Title', 'datetime time', 'datetime Year', 'datetime Month',\n",
      "       'datetime Day_of_month'],\n",
      "      dtype='object')\n",
      "\n",
      "users\n",
      "Index(['FeatureX', 'FeatureY', 'User_ID', 'Countries_ID', 'Created At time',\n",
      "       'Created At Year', 'Created At Month', 'Created At Day_of_month'],\n",
      "      dtype='object')\n"
     ]
    }
   ],
   "source": [
    "# a function that returns the columns in each item in our data list\n",
    "def check_columns(data_list):    \n",
    "    for (df, name) in zip(data_list, names):\n",
    "        print(f\"\\n{name}\",)\n",
    "        print(df.columns)\n",
    "    \n",
    "\n",
    "check_columns(df_list)"
   ]
  },
  {
   "cell_type": "code",
   "execution_count": 45,
   "metadata": {},
   "outputs": [
    {
     "name": "stdout",
     "output_type": "stream",
     "text": [
      "\n",
      "blogs\n",
      "(117, 6)\n",
      "\n",
      "comments\n",
      "(467, 6)\n",
      "\n",
      "competitions\n",
      "(247, 20)\n",
      "\n",
      "competition_participations\n",
      "(8385, 8)\n",
      "\n",
      "discussions\n",
      "(1439, 9)\n",
      "\n",
      "jobs\n",
      "(34, 7)\n",
      "\n",
      "user_activity\n",
      "(317292, 6)\n",
      "\n",
      "users\n",
      "(12413, 8)\n"
     ]
    }
   ],
   "source": [
    "# a function that returns the shape of each item in our data list\n",
    "def check_shape(data_list):    \n",
    "    for (df, name) in zip(data_list, names):\n",
    "        print(f\"\\n{name}\")\n",
    "        print(df.shape)\n",
    "    \n",
    "\n",
    "check_shape(df_list)"
   ]
  },
  {
   "cell_type": "code",
   "execution_count": 46,
   "metadata": {},
   "outputs": [
    {
     "name": "stdout",
     "output_type": "stream",
     "text": [
      "\n",
      "blogs:\n",
      "0.43%\n",
      "\n",
      "comments:\n",
      "0.0%\n",
      "\n",
      "competitions:\n",
      "6.68%\n",
      "\n",
      "competition_participations:\n",
      "10.34%\n",
      "\n",
      "discussions:\n",
      "9.88%\n",
      "\n",
      "jobs:\n",
      "18.91%\n",
      "\n",
      "user_activity:\n",
      "0.0%\n",
      "\n",
      "users:\n",
      "5.92%\n"
     ]
    }
   ],
   "source": [
    "# Function that checks the missing values in our data and returns the name of our data as well as the % of missing values\n",
    "def check_missing_values(data_list, data_names):\n",
    "    def missing_values(data):\n",
    "        missing_values_df = data.isna().sum()\n",
    "        sum_all_missing_values_in_df = missing_values_df.sum()\n",
    "        total_cells = data.size\n",
    "        percentage = round((sum_all_missing_values_in_df/total_cells)*100, 2)\n",
    "        return f'{percentage}%'\n",
    "\n",
    "    for (df, name) in zip(data_list, data_names):\n",
    "        print(f\"\\n{name}:\")\n",
    "        print(missing_values(df))\n",
    "\n",
    "check_missing_values(df_list, names)\n"
   ]
  },
  {
   "cell_type": "code",
   "execution_count": 59,
   "metadata": {},
   "outputs": [
    {
     "name": "stdout",
     "output_type": "stream",
     "text": [
      "\n",
      "blogs:\n",
      "0.0%\n",
      "\n",
      "comments:\n",
      "0.0%\n",
      "\n",
      "competitions:\n",
      "0.0%\n",
      "\n",
      "competition_participations:\n",
      "0.0%\n",
      "\n",
      "discussions:\n",
      "0.0%\n",
      "\n",
      "jobs:\n",
      "0.0%\n",
      "\n",
      "user_activity:\n",
      "0.0%\n",
      "\n",
      "users:\n",
      "0.0%\n"
     ]
    }
   ],
   "source": [
    "# Function that checks the duplicate values in our data and returns the name of our data as well as the % of duplicate values\n",
    "\n",
    "def check_duplicate_values(data_list, data_names):\n",
    "    def duplicate_values(data):\n",
    "        duplicate_values_df = data.duplicated().sum()\n",
    "        sum_all_duplicate_values_in_df = duplicate_values_df.sum()\n",
    "        total_cells = data.size\n",
    "        percentage = (sum_all_duplicate_values_in_df/total_cells)*100\n",
    "        return f'{percentage}%'\n",
    "\n",
    "    for (df, name) in zip(data_list, data_names):\n",
    "        print(f\"\\n{name}:\")\n",
    "        print(duplicate_values(df))\n",
    "\n",
    "check_duplicate_values(df_list, names)"
   ]
  },
  {
   "cell_type": "code",
   "execution_count": null,
   "metadata": {},
   "outputs": [],
   "source": []
  }
 ],
 "metadata": {
  "kernelspec": {
   "display_name": "Python 3.9.12 ('base')",
   "language": "python",
   "name": "python3"
  },
  "language_info": {
   "codemirror_mode": {
    "name": "ipython",
    "version": 3
   },
   "file_extension": ".py",
   "mimetype": "text/x-python",
   "name": "python",
   "nbconvert_exporter": "python",
   "pygments_lexer": "ipython3",
   "version": "3.9.12"
  },
  "orig_nbformat": 4,
  "vscode": {
   "interpreter": {
    "hash": "ad2bdc8ecc057115af97d19610ffacc2b4e99fae6737bb82f5d7fb13d2f2c186"
   }
  }
 },
 "nbformat": 4,
 "nbformat_minor": 2
}
